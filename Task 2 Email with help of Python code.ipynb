{
 "cells": [
  {
   "cell_type": "code",
   "execution_count": null,
   "id": "5a92a423",
   "metadata": {},
   "outputs": [],
   "source": [
    "pip install numpy"
   ]
  },
  {
   "cell_type": "code",
   "execution_count": null,
   "id": "7cb7c149",
   "metadata": {},
   "outputs": [],
   "source": [
    "pip install twilio.rest"
   ]
  },
  {
   "cell_type": "code",
   "execution_count": null,
   "id": "83dc0e30",
   "metadata": {},
   "outputs": [],
   "source": [
    "pip list"
   ]
  },
  {
   "cell_type": "code",
   "execution_count": null,
   "id": "e3aff500",
   "metadata": {},
   "outputs": [],
   "source": [
    "pip install numpy pandas matplotlib seaborn"
   ]
  },
  {
   "cell_type": "code",
   "execution_count": null,
   "id": "546899bc",
   "metadata": {},
   "outputs": [],
   "source": [
    "pip install smtplib twilio SpeechRecognition"
   ]
  },
  {
   "cell_type": "code",
   "execution_count": null,
   "id": "72808ddb",
   "metadata": {},
   "outputs": [],
   "source": [
    "pip install twilio SpeechRecognition"
   ]
  },
  {
   "cell_type": "code",
   "execution_count": null,
   "id": "c784c78d",
   "metadata": {},
   "outputs": [],
   "source": []
  },
  {
   "cell_type": "code",
   "execution_count": null,
   "id": "876f96e4",
   "metadata": {},
   "outputs": [],
   "source": [
    "#og\n",
    "import smtplib\n",
    "from email.mime.text import MIMEText\n",
    "\n",
    "def send_email(sender_email, receiver_email, password, subject, body):\n",
    "    message = MIMEText(body)\n",
    "    message[\"From\"] = sender_email\n",
    "    message[\"To\"] = receiver_email\n",
    "    message[\"Subject\"] = subject\n",
    "\n",
    "    with smtplib.SMTP(\"smtp.gmail.com\", 587) as server:\n",
    "        server.starttls()\n",
    "        server.login(sender_email, password)\n",
    "        server.sendmail(sender_email, receiver_email, message.as_string())\n",
    "\n",
    "# Replace these variables with your own email credentials\n",
    "sender_email = \"heatdynamic7@gmail.com\"\n",
    "receiver_email = \"fancy777cake@gmail.com\"\n",
    "password = \"sckpmtywzxxbzlvq\"  # Replace with your Gmail App Password\n",
    "subject = \"Test Subject - Email with python\"\n",
    "body = \"Hello, This is a test email ! a am writing this for the body taki ke email ma check kar saku ke second line aata hai ki nahi\"\n",
    "\n",
    "# Example usage with your own email credentials:\n",
    "send_email(sender_email, receiver_email, password, subject, body)\n",
    "\n",
    "#check\n",
    "\n"
   ]
  },
  {
   "cell_type": "code",
   "execution_count": null,
   "id": "4ba46a34",
   "metadata": {},
   "outputs": [],
   "source": []
  },
  {
   "cell_type": "code",
   "execution_count": 1,
   "id": "09ccfa05",
   "metadata": {},
   "outputs": [
    {
     "name": "stdout",
     "output_type": "stream",
     "text": [
      "enter email address:fancy777cake@gmail.com\n",
      "Subject:python check\n",
      "content for mail:isudgfoisdbfiuadfhijzsdhfuiawdhfviouasdhfvpiuawdf\n"
     ]
    }
   ],
   "source": [
    "# try 1 up grade working\n",
    "\n",
    "\n",
    "import smtplib\n",
    "from email.mime.text import MIMEText\n",
    "\n",
    "def send_email(sender_email, receiver_email, password, subject, body):\n",
    "    message = MIMEText(body)\n",
    "    message[\"From\"] = sender_email\n",
    "    message[\"To\"] = receiver_email\n",
    "    message[\"Subject\"] = subject\n",
    "\n",
    "    with smtplib.SMTP(\"smtp.gmail.com\", 587) as server:\n",
    "        server.starttls()\n",
    "        server.login(sender_email, password)\n",
    "        server.sendmail(sender_email, receiver_email, message.as_string())\n",
    "\n",
    "# Replace these variables with your own email credentials\n",
    "sender_email = \"heatdynamic7@gmail.com\"\n",
    "\n",
    "#receiver_email = \"fancy777cake@gmail.com\"\n",
    "receiver_email = input(\"enter email address:\")\n",
    "\n",
    "password = \"sckpmtywzxxbzlvq\"  # Replace with your Gmail App Password\n",
    "\n",
    "#subject = \"Test Subject - Email with python\"\n",
    "subject = input(\"Subject:\")\n",
    "\n",
    "#body = \"Hello, This is a test email ! a am writing this for the body taki ke email ma check kar saku ke second line aata hai ki nahi\"\n",
    "body = input(\"content for mail:\")\n",
    "\n",
    "# Example usage with your own email credentials:\n",
    "send_email(sender_email, receiver_email, password, subject, body)\n",
    "\n",
    "#check 1 working \n",
    "#if you want to create a new update create a new block\n"
   ]
  },
  {
   "cell_type": "code",
   "execution_count": null,
   "id": "9ed8194f",
   "metadata": {},
   "outputs": [],
   "source": []
  }
 ],
 "metadata": {
  "kernelspec": {
   "display_name": "Python 3 (ipykernel)",
   "language": "python",
   "name": "python3"
  },
  "language_info": {
   "codemirror_mode": {
    "name": "ipython",
    "version": 3
   },
   "file_extension": ".py",
   "mimetype": "text/x-python",
   "name": "python",
   "nbconvert_exporter": "python",
   "pygments_lexer": "ipython3",
   "version": "3.11.3"
  }
 },
 "nbformat": 4,
 "nbformat_minor": 5
}
